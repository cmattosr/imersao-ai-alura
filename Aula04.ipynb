{
  "nbformat": 4,
  "nbformat_minor": 0,
  "metadata": {
    "colab": {
      "provenance": [],
      "authorship_tag": "ABX9TyOkq87Z0gLsB1eLT1Tj1pX9",
      "include_colab_link": true
    },
    "kernelspec": {
      "name": "python3",
      "display_name": "Python 3"
    },
    "language_info": {
      "name": "python"
    }
  },
  "cells": [
    {
      "cell_type": "markdown",
      "metadata": {
        "id": "view-in-github",
        "colab_type": "text"
      },
      "source": [
        "<a href=\"https://colab.research.google.com/github/cmattosr/imersao-ai-alura/blob/main/Aula04.ipynb\" target=\"_parent\"><img src=\"https://colab.research.google.com/assets/colab-badge.svg\" alt=\"Open In Colab\"/></a>"
      ]
    },
    {
      "cell_type": "markdown",
      "source": [
        "Instalando o SDK do Google"
      ],
      "metadata": {
        "id": "RHoj8gLmER8M"
      }
    },
    {
      "cell_type": "code",
      "source": [
        "!pip install -q -U google-generativeai"
      ],
      "metadata": {
        "id": "2p1gTB57EYwK"
      },
      "execution_count": 1,
      "outputs": []
    },
    {
      "cell_type": "code",
      "source": [
        "# Import the Python SDK\n",
        "import google.generativeai as genai\n",
        "from google.colab import userdata\n",
        "\n",
        "api_key = userdata.get(\"GEMINI_SECRET_KEY\")\n",
        "genai.configure(api_key=api_key)"
      ],
      "metadata": {
        "id": "bNc_M-SlElnI"
      },
      "execution_count": 15,
      "outputs": []
    },
    {
      "cell_type": "markdown",
      "source": [
        "Listar os modelos disponíveis"
      ],
      "metadata": {
        "id": "MoxfRSoAErG-"
      }
    },
    {
      "cell_type": "code",
      "source": [
        "for modelo in genai.list_models():\n",
        "  if \"generateContent\" in modelo.supported_generation_methods:\n",
        "    print(modelo.name)"
      ],
      "metadata": {
        "colab": {
          "base_uri": "https://localhost:8080/",
          "height": 139
        },
        "id": "Eg803eMcEoSN",
        "outputId": "6f1f9363-dab5-4246-def9-890d69b96df9"
      },
      "execution_count": 16,
      "outputs": [
        {
          "output_type": "stream",
          "name": "stdout",
          "text": [
            "models/gemini-1.0-pro\n",
            "models/gemini-1.0-pro-001\n",
            "models/gemini-1.0-pro-latest\n",
            "models/gemini-1.0-pro-vision-latest\n",
            "models/gemini-1.5-pro-latest\n",
            "models/gemini-pro\n",
            "models/gemini-pro-vision\n"
          ]
        }
      ]
    },
    {
      "cell_type": "code",
      "source": [
        "generation_config = {\n",
        "    \"candidate_count\":1,\n",
        "    \"temperature\":0.5\n",
        "}"
      ],
      "metadata": {
        "id": "h5LdaJUBHVcx"
      },
      "execution_count": 5,
      "outputs": []
    },
    {
      "cell_type": "code",
      "source": [
        "safety_settings = {\n",
        "    \"HARASSMENT\": \"BLOCK_NONE\",\n",
        "    \"HATE\": \"BLOCK_NONE\",\n",
        "    \"SEXUAL\": \"BLOCK_NONE\",\n",
        "    \"DANGEROUS\": \"BLOCK_NONE\"\n",
        "}"
      ],
      "metadata": {
        "id": "n7gQRuiaIHHd"
      },
      "execution_count": 10,
      "outputs": []
    },
    {
      "cell_type": "markdown",
      "source": [
        "Inicializando o modelo"
      ],
      "metadata": {
        "id": "YByb7lVfJJJe"
      }
    },
    {
      "cell_type": "code",
      "source": [
        "model = genai.GenerativeModel(model_name=\"gemini-1.0-pro\",\n",
        "                              generation_config=generation_config,\n",
        "                              safety_settings=safety_settings)"
      ],
      "metadata": {
        "id": "E70Vy3RjJFGm"
      },
      "execution_count": 11,
      "outputs": []
    },
    {
      "cell_type": "code",
      "source": [
        "response = model.generate_content(\"dê sugestões para aprender jenkins, helm e kubernetes gratuitamente\")\n",
        "print(response.text)"
      ],
      "metadata": {
        "colab": {
          "base_uri": "https://localhost:8080/",
          "height": 659
        },
        "id": "oV_QCoi4KcQv",
        "outputId": "60d8e75d-825e-45c4-d96a-7ff444047cd2"
      },
      "execution_count": 12,
      "outputs": [
        {
          "output_type": "stream",
          "name": "stdout",
          "text": [
            "**Jenkins**\n",
            "\n",
            "* **Documentação oficial:** https://www.jenkins.io/doc/\n",
            "* **Tutoriais do YouTube:**\n",
            "    * [Jenkins para iniciantes](https://www.youtube.com/watch?v=r630r255X-8)\n",
            "    * [Configuração do Jenkins do zero](https://www.youtube.com/watch?v=o_j7p-8w46I)\n",
            "* **Cursos online gratuitos:**\n",
            "    * [Jenkins Essentials on Coursera](https://www.coursera.org/specializations/jenkins-essentials)\n",
            "    * [Jenkins Pipeline Basics on Udemy](https://www.udemy.com/course/jenkins-pipeline-basics/)\n",
            "\n",
            "**Helm**\n",
            "\n",
            "* **Documentação oficial:** https://helm.sh/docs/\n",
            "* **Tutoriais do YouTube:**\n",
            "    * [Introdução ao Helm](https://www.youtube.com/watch?v=9_20Lq9q72M)\n",
            "    * [Helm para iniciantes](https://www.youtube.com/watch?v=C5r0Z09zV8A)\n",
            "* **Cursos online gratuitos:**\n",
            "    * [Helm Tutorial on LinuxAcademy](https://linuxacademy.com/course/helm-tutorial)\n",
            "    * [Helm on Pluralsight](https://www.pluralsight.com/courses/helm-kubernetes-package-manager)\n",
            "\n",
            "**Kubernetes**\n",
            "\n",
            "* **Documentação oficial:** https://kubernetes.io/docs/\n",
            "* **Tutoriais do YouTube:**\n",
            "    * [Kubernetes para iniciantes](https://www.youtube.com/watch?v=O23s5d5c38g)\n",
            "    * [Kubernetes em 10 minutos](https://www.youtube.com/watch?v=a-V_23-T30Q)\n",
            "* **Cursos online gratuitos:**\n",
            "    * [Kubernetes on Coursera](https://www.coursera.org/specializations/kubernetes)\n",
            "    * [Kubernetes Fundamentals on Udemy](https://www.udemy.com/course/kubernetes-fundamentals/)\n",
            "\n",
            "**Recursos adicionais**\n",
            "\n",
            "* **Comunidade do Jenkins:** https://community.jenkins.io/\n",
            "* **Comunidade do Helm:** https://helm.sh/community/\n",
            "* **Comunidade do Kubernetes:** https://kubernetes.io/community/\n",
            "* **Playground do Kubernetes:** https://kubernetes.io/docs/tutorials/kubernetes-basics/\n",
            "* **Laboratório de demonstração do Helm:** https://helm.sh/docs/helm/helm_demo/\n"
          ]
        }
      ]
    },
    {
      "cell_type": "code",
      "source": [
        "chat = model.start_chat(history=[])"
      ],
      "metadata": {
        "id": "ZIOL-JhlK9z6"
      },
      "execution_count": 13,
      "outputs": []
    },
    {
      "cell_type": "code",
      "source": [
        "prompt = input(\"Esperando prompt: \")\n",
        "\n",
        "while prompt != \"fim\":\n",
        "  response = chat.send_message(prompt)\n",
        "  print(\"Resposta: \", response.text, \"\\n\")\n",
        "  prompt = input(\"Esperando prompt: \")"
      ],
      "metadata": {
        "colab": {
          "base_uri": "https://localhost:8080/",
          "height": 243
        },
        "id": "9DfMnHeiLQRS",
        "outputId": "3a65b71f-2486-4eff-d7ce-cfdd10ff4a2f"
      },
      "execution_count": 14,
      "outputs": [
        {
          "name": "stdout",
          "output_type": "stream",
          "text": [
            "Esperando prompt: qual a capitão do japão\n",
            "Resposta:  Maya Yoshida \n",
            "\n",
            "Esperando prompt: qual é a capital do japão?\n",
            "Resposta:  Tóquio \n",
            "\n",
            "Esperando prompt: qual é a comida típica\n",
            "Resposta:  Sushi \n",
            "\n",
            "Esperando prompt: qual é a população dessa cidade?\n",
            "Resposta:  Tóquio: cerca de 13,96 milhões de habitantes (2023) \n",
            "\n",
            "Esperando prompt: fim\n"
          ]
        }
      ]
    }
  ]
}